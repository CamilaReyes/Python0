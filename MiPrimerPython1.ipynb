{
 "cells": [
  {
   "cell_type": "markdown",
   "metadata": {},
   "source": [
    "# Hola\n",
    "## Como estan\n",
    "### Me llamo Camila\n",
    "#### Tengo 22 años\n",
    "\n",
    "**negrita**\n",
    "*cursiva*\n",
    "\n",
    "Este es mi primer codigo en Python donde aprendere variables, tipos de variables, imprimir en consola y sobre tipos de variables \"listas\""
   ]
  },
  {
   "cell_type": "code",
   "execution_count": 12,
   "metadata": {},
   "outputs": [
    {
     "name": "stdout",
     "output_type": "stream",
     "text": [
      "El resultado de elevar de 2 a la 3 es  256\n",
      "Si yo divido 7 entre 2 es  1\n"
     ]
    }
   ],
   "source": [
    "#type(\"Hola\")\n",
    "\n",
    "potencia = 2 ** 8\n",
    "#Esto es una potencia\n",
    "\n",
    "resto = 7%2\n",
    "#De esta forma tengo el resto de una division\n",
    "\n",
    "\n",
    "print(\"El resultado de elevar de 2 a la 3 es \",potencia)\n",
    "print (\"Si yo divido 7 entre 2 es \" ,resto)\n",
    "   "
   ]
  }
 ],
 "metadata": {
  "kernelspec": {
   "display_name": "Python 3",
   "language": "python",
   "name": "python3"
  },
  "language_info": {
   "codemirror_mode": {
    "name": "ipython",
    "version": 3
   },
   "file_extension": ".py",
   "mimetype": "text/x-python",
   "name": "python",
   "nbconvert_exporter": "python",
   "pygments_lexer": "ipython3",
   "version": "3.6.6"
  }
 },
 "nbformat": 4,
 "nbformat_minor": 2
}
